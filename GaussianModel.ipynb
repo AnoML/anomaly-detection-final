{
 "cells": [
  {
   "cell_type": "code",
   "execution_count": 1,
   "metadata": {},
   "outputs": [],
   "source": [
    "from scipy.stats import multivariate_normal\n",
    "from pandas import read_csv, DataFrame, option_context\n",
    "import numpy as np\n",
    "from matplotlib import pyplot"
   ]
  },
  {
   "cell_type": "markdown",
   "metadata": {},
   "source": [
    "## Config Vars"
   ]
  },
  {
   "cell_type": "code",
   "execution_count": 2,
   "metadata": {},
   "outputs": [],
   "source": [
    "conf_error_vects_path = 'data/error_vects.csv'\n",
    "shifts = 5\n",
    "threshold = 2.8237531487356081629"
   ]
  },
  {
   "cell_type": "markdown",
   "metadata": {},
   "source": [
    "## Load Dataset"
   ]
  },
  {
   "cell_type": "code",
   "execution_count": 3,
   "metadata": {},
   "outputs": [],
   "source": [
    "error_vects_full = read_csv(conf_error_vects_path , header=0, index_col=0)"
   ]
  },
  {
   "cell_type": "markdown",
   "metadata": {},
   "source": [
    "## Seperate data"
   ]
  },
  {
   "cell_type": "code",
   "execution_count": 4,
   "metadata": {},
   "outputs": [],
   "source": [
    "train = error_vects_full.shape[0] * 1 // 2\n",
    "    \n",
    "error_vects = error_vects_full.iloc[:-train]\n",
    "\n",
    "error_vects_test = error_vects_full.iloc[-train:]"
   ]
  },
  {
   "cell_type": "code",
   "execution_count": 5,
   "metadata": {
    "scrolled": true
   },
   "outputs": [
    {
     "data": {
      "text/html": [
       "<div>\n",
       "<style scoped>\n",
       "    .dataframe tbody tr th:only-of-type {\n",
       "        vertical-align: middle;\n",
       "    }\n",
       "\n",
       "    .dataframe tbody tr th {\n",
       "        vertical-align: top;\n",
       "    }\n",
       "\n",
       "    .dataframe thead th {\n",
       "        text-align: right;\n",
       "    }\n",
       "</style>\n",
       "<table border=\"1\" class=\"dataframe\">\n",
       "  <thead>\n",
       "    <tr style=\"text-align: right;\">\n",
       "      <th></th>\n",
       "      <th>1</th>\n",
       "      <th>2</th>\n",
       "      <th>3</th>\n",
       "      <th>4</th>\n",
       "      <th>5</th>\n",
       "      <th>anomaly</th>\n",
       "    </tr>\n",
       "  </thead>\n",
       "  <tbody>\n",
       "    <tr>\n",
       "      <th>40005</th>\n",
       "      <td>0.299401</td>\n",
       "      <td>0.289433</td>\n",
       "      <td>0.304116</td>\n",
       "      <td>0.282207</td>\n",
       "      <td>0.277893</td>\n",
       "      <td>0</td>\n",
       "    </tr>\n",
       "    <tr>\n",
       "      <th>40006</th>\n",
       "      <td>0.197175</td>\n",
       "      <td>0.204604</td>\n",
       "      <td>0.196968</td>\n",
       "      <td>0.206062</td>\n",
       "      <td>0.192897</td>\n",
       "      <td>0</td>\n",
       "    </tr>\n",
       "    <tr>\n",
       "      <th>40007</th>\n",
       "      <td>0.204985</td>\n",
       "      <td>0.187780</td>\n",
       "      <td>0.195564</td>\n",
       "      <td>0.188006</td>\n",
       "      <td>0.196800</td>\n",
       "      <td>0</td>\n",
       "    </tr>\n",
       "    <tr>\n",
       "      <th>40008</th>\n",
       "      <td>0.256410</td>\n",
       "      <td>0.265177</td>\n",
       "      <td>0.245307</td>\n",
       "      <td>0.256989</td>\n",
       "      <td>0.248547</td>\n",
       "      <td>0</td>\n",
       "    </tr>\n",
       "    <tr>\n",
       "      <th>40009</th>\n",
       "      <td>0.244769</td>\n",
       "      <td>0.231876</td>\n",
       "      <td>0.239966</td>\n",
       "      <td>0.221019</td>\n",
       "      <td>0.229630</td>\n",
       "      <td>0</td>\n",
       "    </tr>\n",
       "  </tbody>\n",
       "</table>\n",
       "</div>"
      ],
      "text/plain": [
       "              1         2         3         4         5  anomaly\n",
       "40005  0.299401  0.289433  0.304116  0.282207  0.277893        0\n",
       "40006  0.197175  0.204604  0.196968  0.206062  0.192897        0\n",
       "40007  0.204985  0.187780  0.195564  0.188006  0.196800        0\n",
       "40008  0.256410  0.265177  0.245307  0.256989  0.248547        0\n",
       "40009  0.244769  0.231876  0.239966  0.221019  0.229630        0"
      ]
     },
     "execution_count": 5,
     "metadata": {},
     "output_type": "execute_result"
    }
   ],
   "source": [
    "error_vects.head()"
   ]
  },
  {
   "cell_type": "markdown",
   "metadata": {},
   "source": [
    "## Calculate Means and covariance matrix of error vects"
   ]
  },
  {
   "cell_type": "code",
   "execution_count": 6,
   "metadata": {
    "scrolled": true
   },
   "outputs": [],
   "source": [
    "means = error_vects[error_vects.columns[:-1]].mean()\n",
    "covariance = error_vects[error_vects.columns[:-1]].cov()"
   ]
  },
  {
   "cell_type": "code",
   "execution_count": 7,
   "metadata": {
    "scrolled": true
   },
   "outputs": [
    {
     "ename": "NameError",
     "evalue": "name 'row' is not defined",
     "output_type": "error",
     "traceback": [
      "\u001b[0;31m---------------------------------------------------------------------------\u001b[0m",
      "\u001b[0;31mNameError\u001b[0m                                 Traceback (most recent call last)",
      "\u001b[0;32m<ipython-input-7-0c6ccfd0f9d1>\u001b[0m in \u001b[0;36m<module>\u001b[0;34m()\u001b[0m\n\u001b[0;32m----> 1\u001b[0;31m \u001b[0mnp\u001b[0m\u001b[0;34m.\u001b[0m\u001b[0marray\u001b[0m\u001b[0;34m(\u001b[0m\u001b[0merror_vects_test\u001b[0m\u001b[0;34m[\u001b[0m\u001b[0merror_vects_test\u001b[0m\u001b[0;34m.\u001b[0m\u001b[0mcolumns\u001b[0m\u001b[0;34m[\u001b[0m\u001b[0;34m:\u001b[0m\u001b[0;34m-\u001b[0m\u001b[0;36m1\u001b[0m\u001b[0;34m]\u001b[0m\u001b[0;34m]\u001b[0m\u001b[0;34m.\u001b[0m\u001b[0miloc\u001b[0m\u001b[0;34m[\u001b[0m\u001b[0mrow\u001b[0m\u001b[0;34m]\u001b[0m\u001b[0;34m)\u001b[0m\u001b[0;34m\u001b[0m\u001b[0m\n\u001b[0m",
      "\u001b[0;31mNameError\u001b[0m: name 'row' is not defined"
     ]
    }
   ],
   "source": [
    "np.array(error_vects_test[error_vects_test.columns[:-1]].iloc[row])"
   ]
  },
  {
   "cell_type": "code",
   "execution_count": null,
   "metadata": {
    "scrolled": true
   },
   "outputs": [],
   "source": []
  },
  {
   "cell_type": "markdown",
   "metadata": {},
   "source": [
    "## Creating the Model"
   ]
  },
  {
   "cell_type": "code",
   "execution_count": null,
   "metadata": {
    "scrolled": true
   },
   "outputs": [],
   "source": [
    "g_model = multivariate_normal(mean=means, cov=covariance)"
   ]
  },
  {
   "cell_type": "code",
   "execution_count": null,
   "metadata": {},
   "outputs": [],
   "source": [
    "error_val = DataFrame(columns = ['error'])\n",
    "for row in range(error_vects_test.shape[0]):\n",
    "    val = g_model.pdf(np.array(error_vects_test[error_vects_test.columns[:-1]].iloc[row]))\n",
    "#     print(val*10**35)\n",
    "    error_val.loc[row] = val*10**35\n",
    "error_val.index = error_vects_test.index\n",
    "error_val[[\"anomaly\"]] = error_vects_test[[\"anomaly\"]]"
   ]
  },
  {
   "cell_type": "code",
   "execution_count": null,
   "metadata": {
    "scrolled": true
   },
   "outputs": [],
   "source": [
    "with option_context('display.float_format', '{:0.20f}'.format):\n",
    "    with option_context('display.max_rows', None, 'display.max_columns', None):\n",
    "        print(error_val)\n"
   ]
  },
  {
   "cell_type": "code",
   "execution_count": null,
   "metadata": {
    "scrolled": true
   },
   "outputs": [],
   "source": [
    "error_val_anomaly = error_val[error_val.anomaly == 1]\n",
    "error_val_non_anomaly = error_val[error_val.anomaly == 0]"
   ]
  },
  {
   "cell_type": "code",
   "execution_count": null,
   "metadata": {},
   "outputs": [],
   "source": [
    "xmarks=[i for i in range(42000,50000+1,50)]"
   ]
  },
  {
   "cell_type": "code",
   "execution_count": null,
   "metadata": {},
   "outputs": [],
   "source": [
    "pyplot.figure()\n",
    "pyplot.plot(error_val_anomaly['error'], label='Anomaly')\n",
    "pyplot.plot(error_val_non_anomaly['error'], label='Non Anomaly')\n",
    "pyplot.xticks(xmarks)\n",
    "pyplot.xticks(rotation=90, fontsize=2)\n",
    "pyplot.legend()\n",
    "pyplot.title(\"Anomaly\")\n",
    "pyplot.savefig('graph.png', dpi=1000)\n",
    "pyplot.show()"
   ]
  },
  {
   "cell_type": "code",
   "execution_count": null,
   "metadata": {
    "scrolled": true
   },
   "outputs": [],
   "source": [
    "def thresh():\n",
    "    def func(x):\n",
    "        if(x.error > threshold):\n",
    "            return 1\n",
    "        return 0\n",
    "    return func\n",
    "\n",
    "error_val['pred'] = error_val.apply(thresh(), axis=1)\n",
    "from sklearn.metrics import precision_recall_fscore_support as score, accuracy_score\n",
    "accuracy_score(error_val['anomaly'], error_val['pred'], normalize=True, sample_weight=None)"
   ]
  },
  {
   "cell_type": "code",
   "execution_count": null,
   "metadata": {},
   "outputs": [],
   "source": [
    "# from sklearn.metrics import precision_recall_fscore_support as score, accuracy_score\n",
    "accuracy_score(error_val['anomaly'], error_val['pred'], normalize=True, sample_weight=None)"
   ]
  },
  {
   "cell_type": "code",
   "execution_count": null,
   "metadata": {
    "scrolled": true
   },
   "outputs": [],
   "source": [
    "with option_context('display.float_format', '{:0.20f}'.format):\n",
    "    with option_context('display.max_rows', None, 'display.max_columns', None):\n",
    "        print(error_val)"
   ]
  },
  {
   "cell_type": "code",
   "execution_count": null,
   "metadata": {},
   "outputs": [],
   "source": [
    "pyplot.figure()\n",
    "pyplot.plot(error_val['anomaly'], label='Real')\n",
    "pyplot.plot(error_val['pred'], label='Pred')\n",
    "pyplot.legend()\n",
    "pyplot.title(\"Anomaly\")\n",
    "pyplot.show()"
   ]
  },
  {
   "cell_type": "code",
   "execution_count": null,
   "metadata": {},
   "outputs": [],
   "source": [
    "from sklearn.metrics import precision_recall_fscore_support as score, accuracy_score\n",
    "precision, recall, fscore, support = score(error_val['anomaly'], error_val['pred'])\n",
    "\n",
    "print('precision: {}'.format(precision))\n",
    "print('recall: {}'.format(recall))\n",
    "print('fscore: {}'.format(fscore))\n",
    "print('support: {}'.format(support))"
   ]
  },
  {
   "cell_type": "code",
   "execution_count": null,
   "metadata": {},
   "outputs": [],
   "source": [
    "accuracy_score(error_val['anomaly'], error_val['pred'], normalize=True, sample_weight=None)"
   ]
  },
  {
   "cell_type": "code",
   "execution_count": null,
   "metadata": {},
   "outputs": [],
   "source": []
  }
 ],
 "metadata": {
  "kernelspec": {
   "display_name": "Python 3",
   "language": "python",
   "name": "python3"
  },
  "language_info": {
   "codemirror_mode": {
    "name": "ipython",
    "version": 3
   },
   "file_extension": ".py",
   "mimetype": "text/x-python",
   "name": "python",
   "nbconvert_exporter": "python",
   "pygments_lexer": "ipython3",
   "version": "3.6.4"
  }
 },
 "nbformat": 4,
 "nbformat_minor": 2
}
