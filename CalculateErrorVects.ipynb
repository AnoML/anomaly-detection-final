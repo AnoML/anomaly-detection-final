{
 "cells": [
  {
   "cell_type": "code",
   "execution_count": 8,
   "metadata": {},
   "outputs": [],
   "source": [
    "from sklearn.preprocessing import StandardScaler\n",
    "from sklearn.metrics import mean_squared_error\n",
    "from pandas import read_csv, DataFrame"
   ]
  },
  {
   "cell_type": "markdown",
   "metadata": {},
   "source": [
    "## Config Vars"
   ]
  },
  {
   "cell_type": "code",
   "execution_count": 9,
   "metadata": {},
   "outputs": [],
   "source": [
    "conf_test_dataset_path = 'data/test_dataset.csv'\n",
    "shift_predictions_path = 'data/shift_predictions'\n",
    "model_type = 'lstm'\n",
    "conf_dataset_columns_to_drop = [\"@timestamp\"]\n",
    "shifts = 5"
   ]
  },
  {
   "cell_type": "markdown",
   "metadata": {},
   "source": [
    "## Load Dataset"
   ]
  },
  {
   "cell_type": "code",
   "execution_count": 22,
   "metadata": {},
   "outputs": [],
   "source": [
    "train_dataset = read_csv(conf_test_dataset_path , header=0, index_col=0)\n",
    "train_dataset.drop(conf_dataset_columns_to_drop, axis=1, inplace=True)\n",
    "train_dataset[train_dataset.columns] = StandardScaler().fit_transform(train_dataset)\n",
    "train_dataset_no_anotation = train_dataset.drop(\"anomaly\", axis=1)"
   ]
  },
  {
   "cell_type": "code",
   "execution_count": 25,
   "metadata": {
    "scrolled": true
   },
   "outputs": [],
   "source": [
    "train_dataset = read_csv(conf_test_dataset_path , header=0, index_col=0)"
   ]
  },
  {
   "cell_type": "markdown",
   "metadata": {},
   "source": [
    "## Load Predctions"
   ]
  },
  {
   "cell_type": "code",
   "execution_count": 11,
   "metadata": {},
   "outputs": [],
   "source": [
    "shift_predictions = []\n",
    "for shift in range(1, shifts+1):\n",
    "    dset = read_csv(shift_predictions_path + '/predicted_data_' + model_type + '_model_' + str(shift) + '.csv' , header=0, index_col=0)\n",
    "    shift_predictions.append(dset)"
   ]
  },
  {
   "cell_type": "markdown",
   "metadata": {},
   "source": [
    "## Calculating error vector (Using MSE)\n",
    "e (t) = [e<sub>11</sub><sup>(t)</sup>, ...,e<sub>1l</sub><sup>(t)</sup>, ...,e<sub>d1</sub><sup>(t)</sup>, ...,e<sub>dl</sub><sup>(t)</sup>]"
   ]
  },
  {
   "cell_type": "code",
   "execution_count": 12,
   "metadata": {},
   "outputs": [],
   "source": [
    "error_vects = DataFrame(columns = [1,2,3,4,5])\n",
    "for row in range(5, train_dataset.shape[0]):\n",
    "    vect = []\n",
    "    for shift in range(shifts):\n",
    "        error = mean_squared_error(shift_predictions[shift].iloc[[row - (shift + 1)]],train_dataset_no_anotation.iloc[[row]])\n",
    "        vect.append(error)\n",
    "    error_vects.loc[row] = vect \n",
    "    "
   ]
  },
  {
   "cell_type": "code",
   "execution_count": 27,
   "metadata": {},
   "outputs": [],
   "source": [
    "error_vects.index = train_dataset.index[5:]\n",
    "error_vects[[\"anomaly\"]] = train_dataset[[\"anomaly\"]][5:]"
   ]
  },
  {
   "cell_type": "code",
   "execution_count": 28,
   "metadata": {},
   "outputs": [],
   "source": [
    "error_vects.to_csv(\"data/error_vects.csv\")"
   ]
  },
  {
   "cell_type": "code",
   "execution_count": null,
   "metadata": {},
   "outputs": [],
   "source": []
  }
 ],
 "metadata": {
  "kernelspec": {
   "display_name": "Python 3",
   "language": "python",
   "name": "python3"
  },
  "language_info": {
   "codemirror_mode": {
    "name": "ipython",
    "version": 3
   },
   "file_extension": ".py",
   "mimetype": "text/x-python",
   "name": "python",
   "nbconvert_exporter": "python",
   "pygments_lexer": "ipython3",
   "version": "3.6.4"
  }
 },
 "nbformat": 4,
 "nbformat_minor": 2
}
